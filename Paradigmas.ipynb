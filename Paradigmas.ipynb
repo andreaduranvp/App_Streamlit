{
 "cells": [
  {
   "cell_type": "code",
   "execution_count": 1,
   "id": "0a165ff5-b95a-46bf-af84-2e438dbec88d",
   "metadata": {},
   "outputs": [],
   "source": [
    "import pandas as pd\n",
    "import numpy as np"
   ]
  },
  {
   "cell_type": "code",
   "execution_count": 2,
   "id": "babafd48-d54d-4372-87a5-78b35722dd83",
   "metadata": {},
   "outputs": [],
   "source": [
    "l1=[1,10,20,30,40,50]\n",
    "l2=[1,3,6,9,12,15]"
   ]
  },
  {
   "cell_type": "code",
   "execution_count": 5,
   "id": "d3862885-ce0c-4910-883f-aea7c19f447a",
   "metadata": {},
   "outputs": [],
   "source": [
    "df=pd.DataFrame({\"lista1\":l1, \"lista2\":l2})\n"
   ]
  },
  {
   "cell_type": "code",
   "execution_count": 6,
   "id": "51b322b5-cf3e-4fd5-acd2-9c4436e7b407",
   "metadata": {},
   "outputs": [
    {
     "data": {
      "text/html": [
       "<div>\n",
       "<style scoped>\n",
       "    .dataframe tbody tr th:only-of-type {\n",
       "        vertical-align: middle;\n",
       "    }\n",
       "\n",
       "    .dataframe tbody tr th {\n",
       "        vertical-align: top;\n",
       "    }\n",
       "\n",
       "    .dataframe thead th {\n",
       "        text-align: right;\n",
       "    }\n",
       "</style>\n",
       "<table border=\"1\" class=\"dataframe\">\n",
       "  <thead>\n",
       "    <tr style=\"text-align: right;\">\n",
       "      <th></th>\n",
       "      <th>lista1</th>\n",
       "      <th>lista2</th>\n",
       "    </tr>\n",
       "  </thead>\n",
       "  <tbody>\n",
       "    <tr>\n",
       "      <th>0</th>\n",
       "      <td>1</td>\n",
       "      <td>1</td>\n",
       "    </tr>\n",
       "    <tr>\n",
       "      <th>1</th>\n",
       "      <td>10</td>\n",
       "      <td>3</td>\n",
       "    </tr>\n",
       "    <tr>\n",
       "      <th>2</th>\n",
       "      <td>20</td>\n",
       "      <td>6</td>\n",
       "    </tr>\n",
       "    <tr>\n",
       "      <th>3</th>\n",
       "      <td>30</td>\n",
       "      <td>9</td>\n",
       "    </tr>\n",
       "    <tr>\n",
       "      <th>4</th>\n",
       "      <td>40</td>\n",
       "      <td>12</td>\n",
       "    </tr>\n",
       "    <tr>\n",
       "      <th>5</th>\n",
       "      <td>50</td>\n",
       "      <td>15</td>\n",
       "    </tr>\n",
       "  </tbody>\n",
       "</table>\n",
       "</div>"
      ],
      "text/plain": [
       "   lista1  lista2\n",
       "0       1       1\n",
       "1      10       3\n",
       "2      20       6\n",
       "3      30       9\n",
       "4      40      12\n",
       "5      50      15"
      ]
     },
     "execution_count": 6,
     "metadata": {},
     "output_type": "execute_result"
    }
   ],
   "source": [
    "df"
   ]
  },
  {
   "cell_type": "code",
   "execution_count": 7,
   "id": "ba431a44-0954-4e45-8e5d-8abea030d3f7",
   "metadata": {},
   "outputs": [
    {
     "data": {
      "text/plain": [
       "np.int64(30)"
      ]
     },
     "execution_count": 7,
     "metadata": {},
     "output_type": "execute_result"
    }
   ],
   "source": [
    "df[\"lista1\"][3]"
   ]
  },
  {
   "cell_type": "code",
   "execution_count": 20,
   "id": "bca30565-f8c6-4d8b-8761-416e985b8f1e",
   "metadata": {},
   "outputs": [
    {
     "data": {
      "text/plain": [
       "0     1\n",
       "1    10\n",
       "2    20\n",
       "3    30\n",
       "4    40\n",
       "5    50\n",
       "Name: lista1, dtype: int64"
      ]
     },
     "execution_count": 20,
     "metadata": {},
     "output_type": "execute_result"
    }
   ],
   "source": [
    "df[\"lista1\"]"
   ]
  },
  {
   "cell_type": "markdown",
   "id": "08885f28-2168-4e22-9a62-63f228b965fc",
   "metadata": {},
   "source": [
    "# Paradigma imperativo"
   ]
  },
  {
   "cell_type": "code",
   "execution_count": 9,
   "id": "d2c3fc58-9a2a-4841-9fa3-734b75f8f59a",
   "metadata": {},
   "outputs": [
    {
     "data": {
      "text/plain": [
       "np.float64(25.166666666666668)"
      ]
     },
     "execution_count": 9,
     "metadata": {},
     "output_type": "execute_result"
    }
   ],
   "source": [
    "np.mean(df[\"lista1\"])\n"
   ]
  },
  {
   "cell_type": "code",
   "execution_count": 11,
   "id": "680e6753-502c-44ed-b084-814b8336aeab",
   "metadata": {},
   "outputs": [
    {
     "data": {
      "text/plain": [
       "np.float64(25.0)"
      ]
     },
     "execution_count": 11,
     "metadata": {},
     "output_type": "execute_result"
    }
   ],
   "source": [
    "np.median(df[\"lista1\"])\n"
   ]
  },
  {
   "cell_type": "code",
   "execution_count": 13,
   "id": "726be1b3-fe87-447f-9123-616d867d3500",
   "metadata": {},
   "outputs": [
    {
     "data": {
      "text/plain": [
       "np.float64(16.836633339899702)"
      ]
     },
     "execution_count": 13,
     "metadata": {},
     "output_type": "execute_result"
    }
   ],
   "source": [
    "np.std(df[\"lista1\"])\n"
   ]
  },
  {
   "cell_type": "code",
   "execution_count": 14,
   "id": "e39073f1-cd0f-4494-82ac-f9025e344f7c",
   "metadata": {},
   "outputs": [
    {
     "data": {
      "text/plain": [
       "np.int64(49)"
      ]
     },
     "execution_count": 14,
     "metadata": {},
     "output_type": "execute_result"
    }
   ],
   "source": [
    "np.ptp(df[\"lista1\"])\n"
   ]
  },
  {
   "cell_type": "markdown",
   "id": "2ddf3c7e-e099-463e-82f6-006b2407d595",
   "metadata": {},
   "source": [
    "# Paradigma Decalarativo"
   ]
  },
  {
   "cell_type": "code",
   "execution_count": 16,
   "id": "e2115704-faf2-4e3d-b913-2f976dec1b0e",
   "metadata": {},
   "outputs": [
    {
     "data": {
      "text/plain": [
       "count     6.000000\n",
       "mean     25.166667\n",
       "std      18.443608\n",
       "min       1.000000\n",
       "25%      12.500000\n",
       "50%      25.000000\n",
       "75%      37.500000\n",
       "max      50.000000\n",
       "Name: lista1, dtype: float64"
      ]
     },
     "execution_count": 16,
     "metadata": {},
     "output_type": "execute_result"
    }
   ],
   "source": [
    "df[\"lista1\"].describe()"
   ]
  },
  {
   "cell_type": "markdown",
   "id": "f1a5ef4e-7b1a-48d3-9d08-b02ad98d8cb4",
   "metadata": {},
   "source": [
    "# Paradigma Funcional "
   ]
  },
  {
   "cell_type": "code",
   "execution_count": 17,
   "id": "90f7b28c-7280-4d68-a46b-c297a83459a5",
   "metadata": {},
   "outputs": [],
   "source": [
    "def estadistica(list):\n",
    "    media=np.mean(lista)\n",
    "    mediana=np.median(lista)\n",
    "    desviacion=np.std(lista)\n",
    "    rango=np.ptp(lista)\n",
    "    return print (\"media:\",media, \"mediana:\",mediana, \"desviación:\",desviacion, \"rango:\",rango)"
   ]
  },
  {
   "cell_type": "code",
   "execution_count": 22,
   "id": "bcedfa4e-a725-4f1e-b415-17a11db4e270",
   "metadata": {},
   "outputs": [
    {
     "ename": "NameError",
     "evalue": "name 'lista' is not defined",
     "output_type": "error",
     "traceback": [
      "\u001b[1;31m---------------------------------------------------------------------------\u001b[0m",
      "\u001b[1;31mNameError\u001b[0m                                 Traceback (most recent call last)",
      "Cell \u001b[1;32mIn[22], line 1\u001b[0m\n\u001b[1;32m----> 1\u001b[0m \u001b[43mestadistica\u001b[49m\u001b[43m(\u001b[49m\u001b[43mdf\u001b[49m\u001b[43m[\u001b[49m\u001b[38;5;124;43m\"\u001b[39;49m\u001b[38;5;124;43mlista1\u001b[39;49m\u001b[38;5;124;43m\"\u001b[39;49m\u001b[43m]\u001b[49m\u001b[43m)\u001b[49m\n",
      "Cell \u001b[1;32mIn[17], line 2\u001b[0m, in \u001b[0;36mestadistica\u001b[1;34m(list)\u001b[0m\n\u001b[0;32m      1\u001b[0m \u001b[38;5;28;01mdef\u001b[39;00m \u001b[38;5;21mestadistica\u001b[39m(\u001b[38;5;28mlist\u001b[39m):\n\u001b[1;32m----> 2\u001b[0m     media\u001b[38;5;241m=\u001b[39mnp\u001b[38;5;241m.\u001b[39mmean(\u001b[43mlista\u001b[49m)\n\u001b[0;32m      3\u001b[0m     mediana\u001b[38;5;241m=\u001b[39mnp\u001b[38;5;241m.\u001b[39mmedian(lista)\n\u001b[0;32m      4\u001b[0m     desviacion\u001b[38;5;241m=\u001b[39mnp\u001b[38;5;241m.\u001b[39mstd(lista)\n",
      "\u001b[1;31mNameError\u001b[0m: name 'lista' is not defined"
     ]
    }
   ],
   "source": [
    "estadistica(df[\"lista1\"])"
   ]
  },
  {
   "cell_type": "markdown",
   "id": "7e8b98b0-0b11-48d2-989b-11cb6e5b9276",
   "metadata": {},
   "source": [
    "# Paradigma POO"
   ]
  },
  {
   "cell_type": "code",
   "execution_count": 19,
   "id": "617b8cef-28cf-4fa5-ab14-913446b4202b",
   "metadata": {},
   "outputs": [],
   "source": [
    "class Estadisticas_descriptivas:\n",
    "    def __init__(self, input_lista):\n",
    "        print(\"Estadisticas descriptivas\")\n",
    "        self.lista = input_lista\n",
    "        \n",
    "    def media(self):\n",
    "        resultado = np.mean(self.lista)\n",
    "        return resultado\n",
    "    def mediana(self):\n",
    "        resultado= np.median(self.lista)\n",
    "        return resultado\n",
    "    def desviacion (self):\n",
    "        resultado = np.std(self.lista)\n",
    "        return resultado\n",
    "    def rango (self):\n",
    "        resultado = np.ptp(self.lista)\n",
    "        return resultado\n",
    "    \n",
    "    def resultados(self):\n",
    "        return print(\"media\",self.media(), \"mediana\", self.mediana(), \"desviacion estandar\", self.desviacion(), \"rango\", self.rango())"
   ]
  },
  {
   "cell_type": "code",
   "execution_count": 21,
   "id": "9486b105-d41e-4ecd-96e7-9bb48fe2acbb",
   "metadata": {},
   "outputs": [
    {
     "name": "stdout",
     "output_type": "stream",
     "text": [
      "Estadisticas descriptivas\n"
     ]
    }
   ],
   "source": [
    "estadisticas=Estadisticas_descriptivas(df[\"lista1\"])"
   ]
  },
  {
   "cell_type": "code",
   "execution_count": 23,
   "id": "f958f83e-3130-4eac-8b5b-1c0836399310",
   "metadata": {},
   "outputs": [
    {
     "data": {
      "text/plain": [
       "np.float64(25.166666666666668)"
      ]
     },
     "execution_count": 23,
     "metadata": {},
     "output_type": "execute_result"
    }
   ],
   "source": [
    "estadisticas.media()"
   ]
  },
  {
   "cell_type": "code",
   "execution_count": 25,
   "id": "c914b1c6-95c9-4ddd-af6b-b22928ce73d6",
   "metadata": {},
   "outputs": [
    {
     "data": {
      "text/plain": [
       "np.int64(49)"
      ]
     },
     "execution_count": 25,
     "metadata": {},
     "output_type": "execute_result"
    }
   ],
   "source": [
    "estadisticas.rango()"
   ]
  },
  {
   "cell_type": "code",
   "execution_count": null,
   "id": "1f75ae35-c485-4b5c-84b8-a3b9f01c5781",
   "metadata": {},
   "outputs": [],
   "source": []
  }
 ],
 "metadata": {
  "kernelspec": {
   "display_name": "Python 3 (ipykernel)",
   "language": "python",
   "name": "python3"
  },
  "language_info": {
   "codemirror_mode": {
    "name": "ipython",
    "version": 3
   },
   "file_extension": ".py",
   "mimetype": "text/x-python",
   "name": "python",
   "nbconvert_exporter": "python",
   "pygments_lexer": "ipython3",
   "version": "3.13.1"
  }
 },
 "nbformat": 4,
 "nbformat_minor": 5
}
