{
 "cells": [
  {
   "cell_type": "markdown",
   "id": "09fe36ba-aaf5-4ba6-8113-6df51d07b952",
   "metadata": {},
   "source": [
    "# Título"
   ]
  },
  {
   "cell_type": "code",
   "execution_count": 1,
   "id": "afc2d42a-a649-4262-82b3-d624baba1d64",
   "metadata": {},
   "outputs": [
    {
     "name": "stdout",
     "output_type": "stream",
     "text": [
      "Vector 1: [5, 2, 4]\n",
      "Vector 2: [2, -1, 3]\n",
      "Distance: 3.0\n",
      "Distance: 4.242640687119285\n",
      "Distance: 4.358898943540674\n"
     ]
    }
   ],
   "source": [
    "vector1=[5, 2 , 4]\n",
    "vector2=[2, -1, 3]\n",
    "print(\"Vector 1:\" , vector1)\n",
    "print(\"Vector 2:\" , vector2)\n",
    "\n",
    "#Encontrar la distancia entre estos 2 vectores (iterativo) n logitudes\n",
    "cuadrados = 0\n",
    "suma = 0\n",
    "for i in range(len(vector1)):\n",
    "  cuadrados= (vector1[i]-vector2[i])**2\n",
    "  suma = suma + cuadrados\n",
    "  distance = suma**0.5\n",
    "  print (\"Distance:\", distance)"
   ]
  },
  {
   "cell_type": "code",
   "execution_count": null,
   "id": "b0180f88-2197-4dce-8cef-ae765d293711",
   "metadata": {},
   "outputs": [],
   "source": []
  }
 ],
 "metadata": {
  "kernelspec": {
   "display_name": "Python 3 (ipykernel)",
   "language": "python",
   "name": "python3"
  },
  "language_info": {
   "codemirror_mode": {
    "name": "ipython",
    "version": 3
   },
   "file_extension": ".py",
   "mimetype": "text/x-python",
   "name": "python",
   "nbconvert_exporter": "python",
   "pygments_lexer": "ipython3",
   "version": "3.13.1"
  }
 },
 "nbformat": 4,
 "nbformat_minor": 5
}
